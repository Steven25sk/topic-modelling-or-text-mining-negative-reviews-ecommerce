{
 "cells": [
  {
   "cell_type": "markdown",
   "metadata": {},
   "source": [
    "# 1. Perkenalan"
   ]
  },
  {
   "cell_type": "markdown",
   "metadata": {},
   "source": [
    "- Nama Group : RepiuBoss\n",
    "- Batch : 015\n",
    "- Dataset : Review Tokopedia (https://www.kaggle.com/datasets/farhan999/tokopedia-product-reviews)\n",
    "- Objectives : Collecting product or services comment reviews, clustering the isues from reviews, and sorting the data into easy readable summary."
   ]
  },
  {
   "cell_type": "markdown",
   "metadata": {},
   "source": [
    "# 2. Import Libraries"
   ]
  },
  {
   "cell_type": "code",
   "execution_count": 1,
   "metadata": {},
   "outputs": [],
   "source": [
    "# Import Libraries\n",
    "\n",
    "import numpy as np\n",
    "import pandas as pd\n",
    "\n",
    "# Exploratory Dataset\n",
    "\n",
    "import seaborn as sns\n",
    "import matplotlib.pyplot as plt\n",
    "import nltk\n",
    "from nltk.corpus import stopwords\n",
    "from wordcloud import WordCloud\n",
    "\n",
    "# Text Preprocessing\n",
    "\n",
    "import re\n",
    "import string\n",
    "from nltk.tokenize import word_tokenize\n",
    "import nltk.stem as stemmer\n",
    "from nltk.stem.porter import *\n",
    "\n",
    "# Metrics and Validation\n",
    "\n",
    "from sklearn.model_selection import train_test_split\n",
    "from sklearn.feature_extraction.text import CountVectorizer\n",
    "from sklearn.metrics import classification_report, confusion_matrix, accuracy_score\n",
    "\n",
    "# Embedding Layer\n",
    "\n",
    "import tensorflow as tf\n",
    "from tensorflow.keras.models import Sequential, Model\n",
    "from tensorflow.keras.layers import Embedding, TextVectorization, GlobalAveragePooling1D, Input, LSTM, GRU, Dropout, Dense\n",
    "\n",
    "from urllib import request\n",
    "from PIL import Image"
   ]
  },
  {
   "cell_type": "code",
   "execution_count": 2,
   "metadata": {},
   "outputs": [
    {
     "name": "stderr",
     "output_type": "stream",
     "text": [
      "[nltk_data] Downloading package stopwords to\n",
      "[nltk_data]     /Users/stevenkusuma/nltk_data...\n",
      "[nltk_data]   Package stopwords is already up-to-date!\n",
      "[nltk_data] Downloading package punkt to\n",
      "[nltk_data]     /Users/stevenkusuma/nltk_data...\n",
      "[nltk_data]   Package punkt is already up-to-date!\n"
     ]
    },
    {
     "data": {
      "text/plain": [
       "True"
      ]
     },
     "execution_count": 2,
     "metadata": {},
     "output_type": "execute_result"
    }
   ],
   "source": [
    "# Download Stopwords and Punkt\n",
    "\n",
    "nltk.download('stopwords')\n",
    "nltk.download('punkt')"
   ]
  },
  {
   "cell_type": "markdown",
   "metadata": {},
   "source": [
    "# 3. Data Loading"
   ]
  },
  {
   "cell_type": "code",
   "execution_count": 3,
   "metadata": {},
   "outputs": [
    {
     "data": {
      "text/html": [
       "<div>\n",
       "<style scoped>\n",
       "    .dataframe tbody tr th:only-of-type {\n",
       "        vertical-align: middle;\n",
       "    }\n",
       "\n",
       "    .dataframe tbody tr th {\n",
       "        vertical-align: top;\n",
       "    }\n",
       "\n",
       "    .dataframe thead th {\n",
       "        text-align: right;\n",
       "    }\n",
       "</style>\n",
       "<table border=\"1\" class=\"dataframe\">\n",
       "  <thead>\n",
       "    <tr style=\"text-align: right;\">\n",
       "      <th></th>\n",
       "      <th>id</th>\n",
       "      <th>header_review</th>\n",
       "      <th>review_sangat_singkat</th>\n",
       "      <th>label</th>\n",
       "    </tr>\n",
       "  </thead>\n",
       "  <tbody>\n",
       "    <tr>\n",
       "      <th>0</th>\n",
       "      <td>0</td>\n",
       "      <td>Mantap Barang Sesuai Pesanan</td>\n",
       "      <td>mantap barang sesuai pesanan</td>\n",
       "      <td>1</td>\n",
       "    </tr>\n",
       "    <tr>\n",
       "      <th>1</th>\n",
       "      <td>1</td>\n",
       "      <td>Mantaps.....</td>\n",
       "      <td>Mantaps.....</td>\n",
       "      <td>1</td>\n",
       "    </tr>\n",
       "    <tr>\n",
       "      <th>2</th>\n",
       "      <td>2</td>\n",
       "      <td>Barang Sesuai</td>\n",
       "      <td>Terima kasih buka lapaklapak barang sesuai den...</td>\n",
       "      <td>1</td>\n",
       "    </tr>\n",
       "    <tr>\n",
       "      <th>3</th>\n",
       "      <td>3</td>\n",
       "      <td>Barang Asli</td>\n",
       "      <td>Barang asli</td>\n",
       "      <td>1</td>\n",
       "    </tr>\n",
       "    <tr>\n",
       "      <th>4</th>\n",
       "      <td>4</td>\n",
       "      <td>Mmc  32 Gb. Samsung</td>\n",
       "      <td>Packing  rapih  barang sesuai  pesanan  dan ce...</td>\n",
       "      <td>1</td>\n",
       "    </tr>\n",
       "    <tr>\n",
       "      <th>...</th>\n",
       "      <td>...</td>\n",
       "      <td>...</td>\n",
       "      <td>...</td>\n",
       "      <td>...</td>\n",
       "    </tr>\n",
       "    <tr>\n",
       "      <th>96324</th>\n",
       "      <td>96324</td>\n",
       "      <td>Sesuai Pesanan</td>\n",
       "      <td>sudah sampai, blm dicoba,semoga bermanfaat</td>\n",
       "      <td>1</td>\n",
       "    </tr>\n",
       "    <tr>\n",
       "      <th>96325</th>\n",
       "      <td>96325</td>\n",
       "      <td>Biasa Saja</td>\n",
       "      <td>barangnya sesuai dengan harganya thanks sda di...</td>\n",
       "      <td>1</td>\n",
       "    </tr>\n",
       "    <tr>\n",
       "      <th>96326</th>\n",
       "      <td>96326</td>\n",
       "      <td>Okeexxxxxxxxxxxxxxx</td>\n",
       "      <td>okeexxxxkkkkkkkkkkkkkkkkkkssss</td>\n",
       "      <td>1</td>\n",
       "    </tr>\n",
       "    <tr>\n",
       "      <th>96327</th>\n",
       "      <td>96327</td>\n",
       "      <td>Barang Cepat Sampai Dan Bagus. Makasih Yaa...</td>\n",
       "      <td>Respon nya bagus ramah. Barang cpt sampai. Mak...</td>\n",
       "      <td>1</td>\n",
       "    </tr>\n",
       "    <tr>\n",
       "      <th>96328</th>\n",
       "      <td>96328</td>\n",
       "      <td>Siiip.</td>\n",
       "      <td>Sesuai pesanan, mantap. . Recomended seller.</td>\n",
       "      <td>1</td>\n",
       "    </tr>\n",
       "  </tbody>\n",
       "</table>\n",
       "<p>96329 rows × 4 columns</p>\n",
       "</div>"
      ],
      "text/plain": [
       "          id                                  header_review  \\\n",
       "0          0                   Mantap Barang Sesuai Pesanan   \n",
       "1          1                                   Mantaps.....   \n",
       "2          2                                  Barang Sesuai   \n",
       "3          3                                    Barang Asli   \n",
       "4          4                            Mmc  32 Gb. Samsung   \n",
       "...      ...                                            ...   \n",
       "96324  96324                                 Sesuai Pesanan   \n",
       "96325  96325                                     Biasa Saja   \n",
       "96326  96326                            Okeexxxxxxxxxxxxxxx   \n",
       "96327  96327  Barang Cepat Sampai Dan Bagus. Makasih Yaa...   \n",
       "96328  96328                                        Siiip.    \n",
       "\n",
       "                                   review_sangat_singkat  label  \n",
       "0                           mantap barang sesuai pesanan      1  \n",
       "1                                           Mantaps.....      1  \n",
       "2      Terima kasih buka lapaklapak barang sesuai den...      1  \n",
       "3                                            Barang asli      1  \n",
       "4      Packing  rapih  barang sesuai  pesanan  dan ce...      1  \n",
       "...                                                  ...    ...  \n",
       "96324         sudah sampai, blm dicoba,semoga bermanfaat      1  \n",
       "96325  barangnya sesuai dengan harganya thanks sda di...      1  \n",
       "96326                     okeexxxxkkkkkkkkkkkkkkkkkkssss      1  \n",
       "96327  Respon nya bagus ramah. Barang cpt sampai. Mak...      1  \n",
       "96328       Sesuai pesanan, mantap. . Recomended seller.      1  \n",
       "\n",
       "[96329 rows x 4 columns]"
      ]
     },
     "execution_count": 3,
     "metadata": {},
     "output_type": "execute_result"
    }
   ],
   "source": [
    "# Load Dataset\n",
    "\n",
    "data = pd.read_csv('train.csv')\n",
    "data"
   ]
  },
  {
   "cell_type": "code",
   "execution_count": 4,
   "metadata": {},
   "outputs": [],
   "source": [
    "kamus_2 = pd.read_csv('kamus_2.txt', sep=\"\t\", header=None,names=['slang', 'fix'])"
   ]
  },
  {
   "cell_type": "code",
   "execution_count": 5,
   "metadata": {},
   "outputs": [
    {
     "data": {
      "text/html": [
       "<div>\n",
       "<style scoped>\n",
       "    .dataframe tbody tr th:only-of-type {\n",
       "        vertical-align: middle;\n",
       "    }\n",
       "\n",
       "    .dataframe tbody tr th {\n",
       "        vertical-align: top;\n",
       "    }\n",
       "\n",
       "    .dataframe thead th {\n",
       "        text-align: right;\n",
       "    }\n",
       "</style>\n",
       "<table border=\"1\" class=\"dataframe\">\n",
       "  <thead>\n",
       "    <tr style=\"text-align: right;\">\n",
       "      <th></th>\n",
       "      <th>slang</th>\n",
       "      <th>fix</th>\n",
       "    </tr>\n",
       "  </thead>\n",
       "  <tbody>\n",
       "    <tr>\n",
       "      <th>1314</th>\n",
       "      <td>istaa</td>\n",
       "      <td>nista</td>\n",
       "    </tr>\n",
       "    <tr>\n",
       "      <th>1315</th>\n",
       "      <td>benarjujur</td>\n",
       "      <td>benar</td>\n",
       "    </tr>\n",
       "    <tr>\n",
       "      <th>1316</th>\n",
       "      <td>benarjujur</td>\n",
       "      <td>jujur</td>\n",
       "    </tr>\n",
       "    <tr>\n",
       "      <th>1317</th>\n",
       "      <td>sayan</td>\n",
       "      <td>sayang</td>\n",
       "    </tr>\n",
       "    <tr>\n",
       "      <th>1318</th>\n",
       "      <td>mgkin</td>\n",
       "      <td>mungkin</td>\n",
       "    </tr>\n",
       "  </tbody>\n",
       "</table>\n",
       "</div>"
      ],
      "text/plain": [
       "           slang      fix\n",
       "1314       istaa    nista\n",
       "1315  benarjujur    benar\n",
       "1316  benarjujur    jujur\n",
       "1317       sayan   sayang\n",
       "1318       mgkin  mungkin"
      ]
     },
     "execution_count": 5,
     "metadata": {},
     "output_type": "execute_result"
    }
   ],
   "source": [
    "kamus_2.tail()"
   ]
  },
  {
   "cell_type": "code",
   "execution_count": 6,
   "metadata": {},
   "outputs": [],
   "source": [
    "kamus_2.drop(index=147, inplace=True)"
   ]
  },
  {
   "cell_type": "code",
   "execution_count": 7,
   "metadata": {},
   "outputs": [
    {
     "name": "stderr",
     "output_type": "stream",
     "text": [
      "/var/folders/hd/ljl6m4756zjf08kq1pmpvk680000gn/T/ipykernel_6481/1821775587.py:1: FutureWarning: The frame.append method is deprecated and will be removed from pandas in a future version. Use pandas.concat instead.\n",
      "  kamus = kamus_2.append({'slang':'brg', 'fix':'barang'}, ignore_index=True)\n",
      "/var/folders/hd/ljl6m4756zjf08kq1pmpvk680000gn/T/ipykernel_6481/1821775587.py:2: FutureWarning: The frame.append method is deprecated and will be removed from pandas in a future version. Use pandas.concat instead.\n",
      "  kamus = kamus.append({'slang':'nggk', 'fix':'tidak'}, ignore_index=True)\n",
      "/var/folders/hd/ljl6m4756zjf08kq1pmpvk680000gn/T/ipykernel_6481/1821775587.py:3: FutureWarning: The frame.append method is deprecated and will be removed from pandas in a future version. Use pandas.concat instead.\n",
      "  kamus = kamus.append({'slang':'thankss', 'fix':'terima kasih'}, ignore_index=True)\n"
     ]
    }
   ],
   "source": [
    "kamus = kamus_2.append({'slang':'brg', 'fix':'barang'}, ignore_index=True)\n",
    "kamus = kamus.append({'slang':'nggk', 'fix':'tidak'}, ignore_index=True)\n",
    "kamus = kamus.append({'slang':'thankss', 'fix':'terima kasih'}, ignore_index=True)"
   ]
  },
  {
   "cell_type": "code",
   "execution_count": 8,
   "metadata": {},
   "outputs": [],
   "source": [
    "slang_list = kamus['slang'].tolist()\n",
    "fix_list = kamus['fix'].tolist()"
   ]
  },
  {
   "cell_type": "code",
   "execution_count": 9,
   "metadata": {},
   "outputs": [
    {
     "data": {
      "text/html": [
       "<div>\n",
       "<style scoped>\n",
       "    .dataframe tbody tr th:only-of-type {\n",
       "        vertical-align: middle;\n",
       "    }\n",
       "\n",
       "    .dataframe tbody tr th {\n",
       "        vertical-align: top;\n",
       "    }\n",
       "\n",
       "    .dataframe thead th {\n",
       "        text-align: right;\n",
       "    }\n",
       "</style>\n",
       "<table border=\"1\" class=\"dataframe\">\n",
       "  <thead>\n",
       "    <tr style=\"text-align: right;\">\n",
       "      <th></th>\n",
       "      <th>slang</th>\n",
       "      <th>fix</th>\n",
       "    </tr>\n",
       "  </thead>\n",
       "  <tbody>\n",
       "    <tr>\n",
       "      <th>1316</th>\n",
       "      <td>sayan</td>\n",
       "      <td>sayang</td>\n",
       "    </tr>\n",
       "    <tr>\n",
       "      <th>1317</th>\n",
       "      <td>mgkin</td>\n",
       "      <td>mungkin</td>\n",
       "    </tr>\n",
       "    <tr>\n",
       "      <th>1318</th>\n",
       "      <td>brg</td>\n",
       "      <td>barang</td>\n",
       "    </tr>\n",
       "    <tr>\n",
       "      <th>1319</th>\n",
       "      <td>nggk</td>\n",
       "      <td>tidak</td>\n",
       "    </tr>\n",
       "    <tr>\n",
       "      <th>1320</th>\n",
       "      <td>thankss</td>\n",
       "      <td>terima kasih</td>\n",
       "    </tr>\n",
       "  </tbody>\n",
       "</table>\n",
       "</div>"
      ],
      "text/plain": [
       "        slang           fix\n",
       "1316    sayan        sayang\n",
       "1317    mgkin       mungkin\n",
       "1318      brg        barang\n",
       "1319     nggk         tidak\n",
       "1320  thankss  terima kasih"
      ]
     },
     "execution_count": 9,
     "metadata": {},
     "output_type": "execute_result"
    }
   ],
   "source": [
    "kamus.tail()"
   ]
  },
  {
   "cell_type": "code",
   "execution_count": 10,
   "metadata": {},
   "outputs": [
    {
     "data": {
      "text/html": [
       "<div>\n",
       "<style scoped>\n",
       "    .dataframe tbody tr th:only-of-type {\n",
       "        vertical-align: middle;\n",
       "    }\n",
       "\n",
       "    .dataframe tbody tr th {\n",
       "        vertical-align: top;\n",
       "    }\n",
       "\n",
       "    .dataframe thead th {\n",
       "        text-align: right;\n",
       "    }\n",
       "</style>\n",
       "<table border=\"1\" class=\"dataframe\">\n",
       "  <thead>\n",
       "    <tr style=\"text-align: right;\">\n",
       "      <th></th>\n",
       "      <th>id</th>\n",
       "      <th>header_review</th>\n",
       "      <th>review_sangat_singkat</th>\n",
       "      <th>label</th>\n",
       "    </tr>\n",
       "  </thead>\n",
       "  <tbody>\n",
       "    <tr>\n",
       "      <th>0</th>\n",
       "      <td>0</td>\n",
       "      <td>Mantap Barang Sesuai Pesanan</td>\n",
       "      <td>mantap barang sesuai pesanan</td>\n",
       "      <td>1</td>\n",
       "    </tr>\n",
       "    <tr>\n",
       "      <th>1</th>\n",
       "      <td>1</td>\n",
       "      <td>Mantaps.....</td>\n",
       "      <td>Mantaps.....</td>\n",
       "      <td>1</td>\n",
       "    </tr>\n",
       "    <tr>\n",
       "      <th>2</th>\n",
       "      <td>2</td>\n",
       "      <td>Barang Sesuai</td>\n",
       "      <td>Terima kasih buka lapaklapak barang sesuai den...</td>\n",
       "      <td>1</td>\n",
       "    </tr>\n",
       "    <tr>\n",
       "      <th>3</th>\n",
       "      <td>3</td>\n",
       "      <td>Barang Asli</td>\n",
       "      <td>Barang asli</td>\n",
       "      <td>1</td>\n",
       "    </tr>\n",
       "    <tr>\n",
       "      <th>4</th>\n",
       "      <td>4</td>\n",
       "      <td>Mmc  32 Gb. Samsung</td>\n",
       "      <td>Packing  rapih  barang sesuai  pesanan  dan ce...</td>\n",
       "      <td>1</td>\n",
       "    </tr>\n",
       "  </tbody>\n",
       "</table>\n",
       "</div>"
      ],
      "text/plain": [
       "   id                 header_review  \\\n",
       "0   0  Mantap Barang Sesuai Pesanan   \n",
       "1   1                  Mantaps.....   \n",
       "2   2                 Barang Sesuai   \n",
       "3   3                   Barang Asli   \n",
       "4   4           Mmc  32 Gb. Samsung   \n",
       "\n",
       "                               review_sangat_singkat  label  \n",
       "0                       mantap barang sesuai pesanan      1  \n",
       "1                                       Mantaps.....      1  \n",
       "2  Terima kasih buka lapaklapak barang sesuai den...      1  \n",
       "3                                        Barang asli      1  \n",
       "4  Packing  rapih  barang sesuai  pesanan  dan ce...      1  "
      ]
     },
     "execution_count": 10,
     "metadata": {},
     "output_type": "execute_result"
    }
   ],
   "source": [
    "data.head()"
   ]
  },
  {
   "cell_type": "code",
   "execution_count": 11,
   "metadata": {},
   "outputs": [
    {
     "data": {
      "text/html": [
       "<div>\n",
       "<style scoped>\n",
       "    .dataframe tbody tr th:only-of-type {\n",
       "        vertical-align: middle;\n",
       "    }\n",
       "\n",
       "    .dataframe tbody tr th {\n",
       "        vertical-align: top;\n",
       "    }\n",
       "\n",
       "    .dataframe thead th {\n",
       "        text-align: right;\n",
       "    }\n",
       "</style>\n",
       "<table border=\"1\" class=\"dataframe\">\n",
       "  <thead>\n",
       "    <tr style=\"text-align: right;\">\n",
       "      <th></th>\n",
       "      <th>id</th>\n",
       "      <th>header_review</th>\n",
       "      <th>review_sangat_singkat</th>\n",
       "      <th>label</th>\n",
       "    </tr>\n",
       "  </thead>\n",
       "  <tbody>\n",
       "    <tr>\n",
       "      <th>96324</th>\n",
       "      <td>96324</td>\n",
       "      <td>Sesuai Pesanan</td>\n",
       "      <td>sudah sampai, blm dicoba,semoga bermanfaat</td>\n",
       "      <td>1</td>\n",
       "    </tr>\n",
       "    <tr>\n",
       "      <th>96325</th>\n",
       "      <td>96325</td>\n",
       "      <td>Biasa Saja</td>\n",
       "      <td>barangnya sesuai dengan harganya thanks sda di...</td>\n",
       "      <td>1</td>\n",
       "    </tr>\n",
       "    <tr>\n",
       "      <th>96326</th>\n",
       "      <td>96326</td>\n",
       "      <td>Okeexxxxxxxxxxxxxxx</td>\n",
       "      <td>okeexxxxkkkkkkkkkkkkkkkkkkssss</td>\n",
       "      <td>1</td>\n",
       "    </tr>\n",
       "    <tr>\n",
       "      <th>96327</th>\n",
       "      <td>96327</td>\n",
       "      <td>Barang Cepat Sampai Dan Bagus. Makasih Yaa...</td>\n",
       "      <td>Respon nya bagus ramah. Barang cpt sampai. Mak...</td>\n",
       "      <td>1</td>\n",
       "    </tr>\n",
       "    <tr>\n",
       "      <th>96328</th>\n",
       "      <td>96328</td>\n",
       "      <td>Siiip.</td>\n",
       "      <td>Sesuai pesanan, mantap. . Recomended seller.</td>\n",
       "      <td>1</td>\n",
       "    </tr>\n",
       "  </tbody>\n",
       "</table>\n",
       "</div>"
      ],
      "text/plain": [
       "          id                                  header_review  \\\n",
       "96324  96324                                 Sesuai Pesanan   \n",
       "96325  96325                                     Biasa Saja   \n",
       "96326  96326                            Okeexxxxxxxxxxxxxxx   \n",
       "96327  96327  Barang Cepat Sampai Dan Bagus. Makasih Yaa...   \n",
       "96328  96328                                        Siiip.    \n",
       "\n",
       "                                   review_sangat_singkat  label  \n",
       "96324         sudah sampai, blm dicoba,semoga bermanfaat      1  \n",
       "96325  barangnya sesuai dengan harganya thanks sda di...      1  \n",
       "96326                     okeexxxxkkkkkkkkkkkkkkkkkkssss      1  \n",
       "96327  Respon nya bagus ramah. Barang cpt sampai. Mak...      1  \n",
       "96328       Sesuai pesanan, mantap. . Recomended seller.      1  "
      ]
     },
     "execution_count": 11,
     "metadata": {},
     "output_type": "execute_result"
    }
   ],
   "source": [
    "data.tail()"
   ]
  },
  {
   "cell_type": "code",
   "execution_count": 12,
   "metadata": {},
   "outputs": [
    {
     "name": "stdout",
     "output_type": "stream",
     "text": [
      "<class 'pandas.core.frame.DataFrame'>\n",
      "RangeIndex: 96329 entries, 0 to 96328\n",
      "Data columns (total 4 columns):\n",
      " #   Column                 Non-Null Count  Dtype \n",
      "---  ------                 --------------  ----- \n",
      " 0   id                     96329 non-null  int64 \n",
      " 1   header_review          96322 non-null  object\n",
      " 2   review_sangat_singkat  96329 non-null  object\n",
      " 3   label                  96329 non-null  int64 \n",
      "dtypes: int64(2), object(2)\n",
      "memory usage: 2.9+ MB\n"
     ]
    }
   ],
   "source": [
    "# Check Dataset - 1\n",
    "\n",
    "data.info()"
   ]
  },
  {
   "cell_type": "code",
   "execution_count": 40,
   "metadata": {},
   "outputs": [
    {
     "data": {
      "text/plain": [
       "<AxesSubplot:ylabel='label'>"
      ]
     },
     "execution_count": 40,
     "metadata": {},
     "output_type": "execute_result"
    },
    {
     "data": {
      "image/png": "[encoded data removed]",
      "text/plain": [
       "<Figure size 360x360 with 1 Axes>"
      ]
     },
     "metadata": {},
     "output_type": "display_data"
    }
   ],
   "source": [
    "# Create Pie Chart to know rating distribution\n",
    "\n",
    "data['label'].value_counts().plot(kind='pie', autopct='%1.0f%%',\n",
    "                                  shadow=True,\n",
    "                                  startangle=90,\n",
    "                                  pctdistance=0.8,\n",
    "                                  explode= (0.1,0.1),\n",
    "                                  colors=['#e216d9', '#16e261'],\n",
    "                                  figsize=(5,5))"
   ]
  },
  {
   "cell_type": "markdown",
   "metadata": {},
   "source": [
    "# 4. Data Preprocessing"
   ]
  },
  {
   "cell_type": "markdown",
   "metadata": {},
   "source": [
    "## 4.1. Get Data for Model Inference"
   ]
  },
  {
   "cell_type": "code",
   "execution_count": 13,
   "metadata": {},
   "outputs": [
    {
     "data": {
      "text/html": [
       "<div>\n",
       "<style scoped>\n",
       "    .dataframe tbody tr th:only-of-type {\n",
       "        vertical-align: middle;\n",
       "    }\n",
       "\n",
       "    .dataframe tbody tr th {\n",
       "        vertical-align: top;\n",
       "    }\n",
       "\n",
       "    .dataframe thead th {\n",
       "        text-align: right;\n",
       "    }\n",
       "</style>\n",
       "<table border=\"1\" class=\"dataframe\">\n",
       "  <thead>\n",
       "    <tr style=\"text-align: right;\">\n",
       "      <th></th>\n",
       "      <th>id</th>\n",
       "      <th>header_review</th>\n",
       "      <th>review_sangat_singkat</th>\n",
       "      <th>label</th>\n",
       "    </tr>\n",
       "  </thead>\n",
       "  <tbody>\n",
       "    <tr>\n",
       "      <th>35167</th>\n",
       "      <td>35167</td>\n",
       "      <td>Salah Warna</td>\n",
       "      <td>Ane pesenya warna item pink yang dateng malah ...</td>\n",
       "      <td>1</td>\n",
       "    </tr>\n",
       "    <tr>\n",
       "      <th>91987</th>\n",
       "      <td>91987</td>\n",
       "      <td>Kecewa</td>\n",
       "      <td>Kecewa, barangnya jelek banget. Bahannya jelek...</td>\n",
       "      <td>0</td>\n",
       "    </tr>\n",
       "    <tr>\n",
       "      <th>29651</th>\n",
       "      <td>29651</td>\n",
       "      <td>Puas</td>\n",
       "      <td>Barangnya cepat sekali di prosesnya</td>\n",
       "      <td>1</td>\n",
       "    </tr>\n",
       "    <tr>\n",
       "      <th>30502</th>\n",
       "      <td>30502</td>\n",
       "      <td>10k</td>\n",
       "      <td>Mantap dari puluhan ribu cuma 10k aja mantul l...</td>\n",
       "      <td>1</td>\n",
       "    </tr>\n",
       "    <tr>\n",
       "      <th>58550</th>\n",
       "      <td>58550</td>\n",
       "      <td>Wanginya Oke Bgt</td>\n",
       "      <td>dapat yg masih bagus, wanginya juga original.</td>\n",
       "      <td>1</td>\n",
       "    </tr>\n",
       "    <tr>\n",
       "      <th>21794</th>\n",
       "      <td>21794</td>\n",
       "      <td>Biasa Aja Bahannya</td>\n",
       "      <td>gak da yang istimewa. maklum tas buatan lokal ...</td>\n",
       "      <td>1</td>\n",
       "    </tr>\n",
       "    <tr>\n",
       "      <th>31637</th>\n",
       "      <td>31637</td>\n",
       "      <td>Good</td>\n",
       "      <td>good</td>\n",
       "      <td>1</td>\n",
       "    </tr>\n",
       "    <tr>\n",
       "      <th>81191</th>\n",
       "      <td>81191</td>\n",
       "      <td>Mantap</td>\n",
       "      <td>mantap</td>\n",
       "      <td>1</td>\n",
       "    </tr>\n",
       "    <tr>\n",
       "      <th>9801</th>\n",
       "      <td>9801</td>\n",
       "      <td>Bagus</td>\n",
       "      <td>bagus</td>\n",
       "      <td>1</td>\n",
       "    </tr>\n",
       "    <tr>\n",
       "      <th>35784</th>\n",
       "      <td>35784</td>\n",
       "      <td>Toko Terbaik</td>\n",
       "      <td>Saya pembeli Dari Riau, saat Saya terima baran...</td>\n",
       "      <td>1</td>\n",
       "    </tr>\n",
       "  </tbody>\n",
       "</table>\n",
       "</div>"
      ],
      "text/plain": [
       "          id       header_review  \\\n",
       "35167  35167         Salah Warna   \n",
       "91987  91987              Kecewa   \n",
       "29651  29651                Puas   \n",
       "30502  30502                 10k   \n",
       "58550  58550    Wanginya Oke Bgt   \n",
       "21794  21794  Biasa Aja Bahannya   \n",
       "31637  31637                Good   \n",
       "81191  81191              Mantap   \n",
       "9801    9801               Bagus   \n",
       "35784  35784        Toko Terbaik   \n",
       "\n",
       "                                   review_sangat_singkat  label  \n",
       "35167  Ane pesenya warna item pink yang dateng malah ...      1  \n",
       "91987  Kecewa, barangnya jelek banget. Bahannya jelek...      0  \n",
       "29651                Barangnya cepat sekali di prosesnya      1  \n",
       "30502  Mantap dari puluhan ribu cuma 10k aja mantul l...      1  \n",
       "58550      dapat yg masih bagus, wanginya juga original.      1  \n",
       "21794  gak da yang istimewa. maklum tas buatan lokal ...      1  \n",
       "31637                                               good      1  \n",
       "81191                                             mantap      1  \n",
       "9801                                               bagus      1  \n",
       "35784  Saya pembeli Dari Riau, saat Saya terima baran...      1  "
      ]
     },
     "execution_count": 13,
     "metadata": {},
     "output_type": "execute_result"
    }
   ],
   "source": [
    "# Get Data for model Inference\n",
    "\n",
    "data_inf = data.sample(10, random_state=25)\n",
    "data_inf"
   ]
  },
  {
   "cell_type": "code",
   "execution_count": 14,
   "metadata": {},
   "outputs": [
    {
     "data": {
      "text/html": [
       "<div>\n",
       "<style scoped>\n",
       "    .dataframe tbody tr th:only-of-type {\n",
       "        vertical-align: middle;\n",
       "    }\n",
       "\n",
       "    .dataframe tbody tr th {\n",
       "        vertical-align: top;\n",
       "    }\n",
       "\n",
       "    .dataframe thead th {\n",
       "        text-align: right;\n",
       "    }\n",
       "</style>\n",
       "<table border=\"1\" class=\"dataframe\">\n",
       "  <thead>\n",
       "    <tr style=\"text-align: right;\">\n",
       "      <th></th>\n",
       "      <th>id</th>\n",
       "      <th>header_review</th>\n",
       "      <th>review_sangat_singkat</th>\n",
       "      <th>label</th>\n",
       "    </tr>\n",
       "  </thead>\n",
       "  <tbody>\n",
       "    <tr>\n",
       "      <th>0</th>\n",
       "      <td>0</td>\n",
       "      <td>Mantap Barang Sesuai Pesanan</td>\n",
       "      <td>mantap barang sesuai pesanan</td>\n",
       "      <td>1</td>\n",
       "    </tr>\n",
       "    <tr>\n",
       "      <th>1</th>\n",
       "      <td>1</td>\n",
       "      <td>Mantaps.....</td>\n",
       "      <td>Mantaps.....</td>\n",
       "      <td>1</td>\n",
       "    </tr>\n",
       "    <tr>\n",
       "      <th>2</th>\n",
       "      <td>2</td>\n",
       "      <td>Barang Sesuai</td>\n",
       "      <td>Terima kasih buka lapaklapak barang sesuai den...</td>\n",
       "      <td>1</td>\n",
       "    </tr>\n",
       "    <tr>\n",
       "      <th>3</th>\n",
       "      <td>3</td>\n",
       "      <td>Barang Asli</td>\n",
       "      <td>Barang asli</td>\n",
       "      <td>1</td>\n",
       "    </tr>\n",
       "    <tr>\n",
       "      <th>4</th>\n",
       "      <td>4</td>\n",
       "      <td>Mmc  32 Gb. Samsung</td>\n",
       "      <td>Packing  rapih  barang sesuai  pesanan  dan ce...</td>\n",
       "      <td>1</td>\n",
       "    </tr>\n",
       "    <tr>\n",
       "      <th>...</th>\n",
       "      <td>...</td>\n",
       "      <td>...</td>\n",
       "      <td>...</td>\n",
       "      <td>...</td>\n",
       "    </tr>\n",
       "    <tr>\n",
       "      <th>96324</th>\n",
       "      <td>96324</td>\n",
       "      <td>Sesuai Pesanan</td>\n",
       "      <td>sudah sampai, blm dicoba,semoga bermanfaat</td>\n",
       "      <td>1</td>\n",
       "    </tr>\n",
       "    <tr>\n",
       "      <th>96325</th>\n",
       "      <td>96325</td>\n",
       "      <td>Biasa Saja</td>\n",
       "      <td>barangnya sesuai dengan harganya thanks sda di...</td>\n",
       "      <td>1</td>\n",
       "    </tr>\n",
       "    <tr>\n",
       "      <th>96326</th>\n",
       "      <td>96326</td>\n",
       "      <td>Okeexxxxxxxxxxxxxxx</td>\n",
       "      <td>okeexxxxkkkkkkkkkkkkkkkkkkssss</td>\n",
       "      <td>1</td>\n",
       "    </tr>\n",
       "    <tr>\n",
       "      <th>96327</th>\n",
       "      <td>96327</td>\n",
       "      <td>Barang Cepat Sampai Dan Bagus. Makasih Yaa...</td>\n",
       "      <td>Respon nya bagus ramah. Barang cpt sampai. Mak...</td>\n",
       "      <td>1</td>\n",
       "    </tr>\n",
       "    <tr>\n",
       "      <th>96328</th>\n",
       "      <td>96328</td>\n",
       "      <td>Siiip.</td>\n",
       "      <td>Sesuai pesanan, mantap. . Recomended seller.</td>\n",
       "      <td>1</td>\n",
       "    </tr>\n",
       "  </tbody>\n",
       "</table>\n",
       "<p>96319 rows × 4 columns</p>\n",
       "</div>"
      ],
      "text/plain": [
       "          id                                  header_review  \\\n",
       "0          0                   Mantap Barang Sesuai Pesanan   \n",
       "1          1                                   Mantaps.....   \n",
       "2          2                                  Barang Sesuai   \n",
       "3          3                                    Barang Asli   \n",
       "4          4                            Mmc  32 Gb. Samsung   \n",
       "...      ...                                            ...   \n",
       "96324  96324                                 Sesuai Pesanan   \n",
       "96325  96325                                     Biasa Saja   \n",
       "96326  96326                            Okeexxxxxxxxxxxxxxx   \n",
       "96327  96327  Barang Cepat Sampai Dan Bagus. Makasih Yaa...   \n",
       "96328  96328                                        Siiip.    \n",
       "\n",
       "                                   review_sangat_singkat  label  \n",
       "0                           mantap barang sesuai pesanan      1  \n",
       "1                                           Mantaps.....      1  \n",
       "2      Terima kasih buka lapaklapak barang sesuai den...      1  \n",
       "3                                            Barang asli      1  \n",
       "4      Packing  rapih  barang sesuai  pesanan  dan ce...      1  \n",
       "...                                                  ...    ...  \n",
       "96324         sudah sampai, blm dicoba,semoga bermanfaat      1  \n",
       "96325  barangnya sesuai dengan harganya thanks sda di...      1  \n",
       "96326                     okeexxxxkkkkkkkkkkkkkkkkkkssss      1  \n",
       "96327  Respon nya bagus ramah. Barang cpt sampai. Mak...      1  \n",
       "96328       Sesuai pesanan, mantap. . Recomended seller.      1  \n",
       "\n",
       "[96319 rows x 4 columns]"
      ]
     },
     "execution_count": 14,
     "metadata": {},
     "output_type": "execute_result"
    }
   ],
   "source": [
    "# Remove Inference-Set from Dataset\n",
    "\n",
    "data_train_test = data.drop(data_inf.index)\n",
    "data_train_test"
   ]
  },
  {
   "cell_type": "code",
   "execution_count": 15,
   "metadata": {},
   "outputs": [
    {
     "data": {
      "text/html": [
       "<div>\n",
       "<style scoped>\n",
       "    .dataframe tbody tr th:only-of-type {\n",
       "        vertical-align: middle;\n",
       "    }\n",
       "\n",
       "    .dataframe tbody tr th {\n",
       "        vertical-align: top;\n",
       "    }\n",
       "\n",
       "    .dataframe thead th {\n",
       "        text-align: right;\n",
       "    }\n",
       "</style>\n",
       "<table border=\"1\" class=\"dataframe\">\n",
       "  <thead>\n",
       "    <tr style=\"text-align: right;\">\n",
       "      <th></th>\n",
       "      <th>id</th>\n",
       "      <th>header_review</th>\n",
       "      <th>review_sangat_singkat</th>\n",
       "      <th>label</th>\n",
       "    </tr>\n",
       "  </thead>\n",
       "  <tbody>\n",
       "    <tr>\n",
       "      <th>0</th>\n",
       "      <td>35167</td>\n",
       "      <td>Salah Warna</td>\n",
       "      <td>Ane pesenya warna item pink yang dateng malah ...</td>\n",
       "      <td>1</td>\n",
       "    </tr>\n",
       "    <tr>\n",
       "      <th>1</th>\n",
       "      <td>91987</td>\n",
       "      <td>Kecewa</td>\n",
       "      <td>Kecewa, barangnya jelek banget. Bahannya jelek...</td>\n",
       "      <td>0</td>\n",
       "    </tr>\n",
       "    <tr>\n",
       "      <th>2</th>\n",
       "      <td>29651</td>\n",
       "      <td>Puas</td>\n",
       "      <td>Barangnya cepat sekali di prosesnya</td>\n",
       "      <td>1</td>\n",
       "    </tr>\n",
       "    <tr>\n",
       "      <th>3</th>\n",
       "      <td>30502</td>\n",
       "      <td>10k</td>\n",
       "      <td>Mantap dari puluhan ribu cuma 10k aja mantul l...</td>\n",
       "      <td>1</td>\n",
       "    </tr>\n",
       "    <tr>\n",
       "      <th>4</th>\n",
       "      <td>58550</td>\n",
       "      <td>Wanginya Oke Bgt</td>\n",
       "      <td>dapat yg masih bagus, wanginya juga original.</td>\n",
       "      <td>1</td>\n",
       "    </tr>\n",
       "    <tr>\n",
       "      <th>5</th>\n",
       "      <td>21794</td>\n",
       "      <td>Biasa Aja Bahannya</td>\n",
       "      <td>gak da yang istimewa. maklum tas buatan lokal ...</td>\n",
       "      <td>1</td>\n",
       "    </tr>\n",
       "    <tr>\n",
       "      <th>6</th>\n",
       "      <td>31637</td>\n",
       "      <td>Good</td>\n",
       "      <td>good</td>\n",
       "      <td>1</td>\n",
       "    </tr>\n",
       "    <tr>\n",
       "      <th>7</th>\n",
       "      <td>81191</td>\n",
       "      <td>Mantap</td>\n",
       "      <td>mantap</td>\n",
       "      <td>1</td>\n",
       "    </tr>\n",
       "    <tr>\n",
       "      <th>8</th>\n",
       "      <td>9801</td>\n",
       "      <td>Bagus</td>\n",
       "      <td>bagus</td>\n",
       "      <td>1</td>\n",
       "    </tr>\n",
       "    <tr>\n",
       "      <th>9</th>\n",
       "      <td>35784</td>\n",
       "      <td>Toko Terbaik</td>\n",
       "      <td>Saya pembeli Dari Riau, saat Saya terima baran...</td>\n",
       "      <td>1</td>\n",
       "    </tr>\n",
       "  </tbody>\n",
       "</table>\n",
       "</div>"
      ],
      "text/plain": [
       "      id       header_review  \\\n",
       "0  35167         Salah Warna   \n",
       "1  91987              Kecewa   \n",
       "2  29651                Puas   \n",
       "3  30502                 10k   \n",
       "4  58550    Wanginya Oke Bgt   \n",
       "5  21794  Biasa Aja Bahannya   \n",
       "6  31637                Good   \n",
       "7  81191              Mantap   \n",
       "8   9801               Bagus   \n",
       "9  35784        Toko Terbaik   \n",
       "\n",
       "                               review_sangat_singkat  label  \n",
       "0  Ane pesenya warna item pink yang dateng malah ...      1  \n",
       "1  Kecewa, barangnya jelek banget. Bahannya jelek...      0  \n",
       "2                Barangnya cepat sekali di prosesnya      1  \n",
       "3  Mantap dari puluhan ribu cuma 10k aja mantul l...      1  \n",
       "4      dapat yg masih bagus, wanginya juga original.      1  \n",
       "5  gak da yang istimewa. maklum tas buatan lokal ...      1  \n",
       "6                                               good      1  \n",
       "7                                             mantap      1  \n",
       "8                                              bagus      1  \n",
       "9  Saya pembeli Dari Riau, saat Saya terima baran...      1  "
      ]
     },
     "execution_count": 15,
     "metadata": {},
     "output_type": "execute_result"
    }
   ],
   "source": [
    "# Reset Index\n",
    "\n",
    "data_train_test.reset_index(drop=True, inplace=True)\n",
    "data_inf.reset_index(drop=True, inplace=True)\n",
    "data_inf"
   ]
  },
  {
   "cell_type": "markdown",
   "metadata": {},
   "source": [
    "## 4.2. Text to Lowercase, Removing Punctuations, Removing Other Non Needed Texts, Removing Stopwords"
   ]
  },
  {
   "cell_type": "code",
   "execution_count": 16,
   "metadata": {},
   "outputs": [],
   "source": [
    "# A Function to use in the dataframe\n",
    "\n",
    "def text_process(text):\n",
    "\n",
    "  # 1. Change all text to Lowercase\n",
    "  text = text.lower()\n",
    "  \n",
    "  # 2. Removing Mentions\n",
    "  text = re.sub(\"@[A-Za-z0-9_]+\", \" \", text)\n",
    "  \n",
    "  # 3. Removing Hashtags\n",
    "  text = re.sub(\"#[A-Za-z0-9_]+\", \" \", text)\n",
    "  \n",
    "  # 4. Removing \\n\n",
    "  text = re.sub(r\"\\n\", \" \",text)\n",
    "  \n",
    "  # 5. Removing Whitespaces\n",
    "  text = text.strip()\n",
    "\n",
    "  # 6. Removing Links\n",
    "  text = re.sub(r\"http\\S+\", \" \", text)\n",
    "  text = re.sub(r\"www.\\S+\", \" \", text)\n",
    "\n",
    "  # 7. Removing non text characters such as Emojis, Mathematical symbols\n",
    "  text = re.sub(\"[^A-Za-z\\s']\", \" \", text)\n",
    "\n",
    "  # 8. Removing RT\n",
    "  text = re.sub(\"rt\", \" \",text)\n",
    "\n",
    "  # 9. Removing Punctuations\n",
    "  text = text.translate(str.maketrans('', '', string.punctuation))\n",
    "\n",
    "  # 10. Tokenization\n",
    "  tokens = word_tokenize(text)\n",
    "  \n",
    "  for x in range(len(tokens)):\n",
    "    for i in range(len(slang_list)):\n",
    "      if tokens[x] == slang_list[i]:\n",
    "        tokens[x] = fix_list[i]\n",
    "      else:\n",
    "        pass\n",
    "  \n",
    "  return text"
   ]
  },
  {
   "cell_type": "code",
   "execution_count": 19,
   "metadata": {},
   "outputs": [
    {
     "data": {
      "text/html": [
       "<div>\n",
       "<style scoped>\n",
       "    .dataframe tbody tr th:only-of-type {\n",
       "        vertical-align: middle;\n",
       "    }\n",
       "\n",
       "    .dataframe tbody tr th {\n",
       "        vertical-align: top;\n",
       "    }\n",
       "\n",
       "    .dataframe thead th {\n",
       "        text-align: right;\n",
       "    }\n",
       "</style>\n",
       "<table border=\"1\" class=\"dataframe\">\n",
       "  <thead>\n",
       "    <tr style=\"text-align: right;\">\n",
       "      <th></th>\n",
       "      <th>id</th>\n",
       "      <th>header_review</th>\n",
       "      <th>review_sangat_singkat</th>\n",
       "      <th>label</th>\n",
       "      <th>text_processed</th>\n",
       "    </tr>\n",
       "  </thead>\n",
       "  <tbody>\n",
       "    <tr>\n",
       "      <th>0</th>\n",
       "      <td>0</td>\n",
       "      <td>Mantap Barang Sesuai Pesanan</td>\n",
       "      <td>mantap barang sesuai pesanan</td>\n",
       "      <td>1</td>\n",
       "      <td>mantap barang sesuai pesanan</td>\n",
       "    </tr>\n",
       "    <tr>\n",
       "      <th>1</th>\n",
       "      <td>1</td>\n",
       "      <td>Mantaps.....</td>\n",
       "      <td>Mantaps.....</td>\n",
       "      <td>1</td>\n",
       "      <td>mantaps</td>\n",
       "    </tr>\n",
       "    <tr>\n",
       "      <th>2</th>\n",
       "      <td>2</td>\n",
       "      <td>Barang Sesuai</td>\n",
       "      <td>Terima kasih buka lapaklapak barang sesuai den...</td>\n",
       "      <td>1</td>\n",
       "      <td>terima kasih buka lapaklapak barang sesuai den...</td>\n",
       "    </tr>\n",
       "    <tr>\n",
       "      <th>3</th>\n",
       "      <td>3</td>\n",
       "      <td>Barang Asli</td>\n",
       "      <td>Barang asli</td>\n",
       "      <td>1</td>\n",
       "      <td>barang asli</td>\n",
       "    </tr>\n",
       "    <tr>\n",
       "      <th>4</th>\n",
       "      <td>4</td>\n",
       "      <td>Mmc  32 Gb. Samsung</td>\n",
       "      <td>Packing  rapih  barang sesuai  pesanan  dan ce...</td>\n",
       "      <td>1</td>\n",
       "      <td>packing  rapih  barang sesuai  pesanan  dan ce...</td>\n",
       "    </tr>\n",
       "    <tr>\n",
       "      <th>...</th>\n",
       "      <td>...</td>\n",
       "      <td>...</td>\n",
       "      <td>...</td>\n",
       "      <td>...</td>\n",
       "      <td>...</td>\n",
       "    </tr>\n",
       "    <tr>\n",
       "      <th>96314</th>\n",
       "      <td>96324</td>\n",
       "      <td>Sesuai Pesanan</td>\n",
       "      <td>sudah sampai, blm dicoba,semoga bermanfaat</td>\n",
       "      <td>1</td>\n",
       "      <td>sudah sampai  blm dicoba semoga bermanfaat</td>\n",
       "    </tr>\n",
       "    <tr>\n",
       "      <th>96315</th>\n",
       "      <td>96325</td>\n",
       "      <td>Biasa Saja</td>\n",
       "      <td>barangnya sesuai dengan harganya thanks sda di...</td>\n",
       "      <td>1</td>\n",
       "      <td>barangnya sesuai dengan harganya thanks sda di...</td>\n",
       "    </tr>\n",
       "    <tr>\n",
       "      <th>96316</th>\n",
       "      <td>96326</td>\n",
       "      <td>Okeexxxxxxxxxxxxxxx</td>\n",
       "      <td>okeexxxxkkkkkkkkkkkkkkkkkkssss</td>\n",
       "      <td>1</td>\n",
       "      <td>okeexxxxkkkkkkkkkkkkkkkkkkssss</td>\n",
       "    </tr>\n",
       "    <tr>\n",
       "      <th>96317</th>\n",
       "      <td>96327</td>\n",
       "      <td>Barang Cepat Sampai Dan Bagus. Makasih Yaa...</td>\n",
       "      <td>Respon nya bagus ramah. Barang cpt sampai. Mak...</td>\n",
       "      <td>1</td>\n",
       "      <td>respon nya bagus ramah  barang cpt sampai  mak...</td>\n",
       "    </tr>\n",
       "    <tr>\n",
       "      <th>96318</th>\n",
       "      <td>96328</td>\n",
       "      <td>Siiip.</td>\n",
       "      <td>Sesuai pesanan, mantap. . Recomended seller.</td>\n",
       "      <td>1</td>\n",
       "      <td>sesuai pesanan  mantap    recomended seller</td>\n",
       "    </tr>\n",
       "  </tbody>\n",
       "</table>\n",
       "<p>96319 rows × 5 columns</p>\n",
       "</div>"
      ],
      "text/plain": [
       "          id                                  header_review  \\\n",
       "0          0                   Mantap Barang Sesuai Pesanan   \n",
       "1          1                                   Mantaps.....   \n",
       "2          2                                  Barang Sesuai   \n",
       "3          3                                    Barang Asli   \n",
       "4          4                            Mmc  32 Gb. Samsung   \n",
       "...      ...                                            ...   \n",
       "96314  96324                                 Sesuai Pesanan   \n",
       "96315  96325                                     Biasa Saja   \n",
       "96316  96326                            Okeexxxxxxxxxxxxxxx   \n",
       "96317  96327  Barang Cepat Sampai Dan Bagus. Makasih Yaa...   \n",
       "96318  96328                                        Siiip.    \n",
       "\n",
       "                                   review_sangat_singkat  label  \\\n",
       "0                           mantap barang sesuai pesanan      1   \n",
       "1                                           Mantaps.....      1   \n",
       "2      Terima kasih buka lapaklapak barang sesuai den...      1   \n",
       "3                                            Barang asli      1   \n",
       "4      Packing  rapih  barang sesuai  pesanan  dan ce...      1   \n",
       "...                                                  ...    ...   \n",
       "96314         sudah sampai, blm dicoba,semoga bermanfaat      1   \n",
       "96315  barangnya sesuai dengan harganya thanks sda di...      1   \n",
       "96316                     okeexxxxkkkkkkkkkkkkkkkkkkssss      1   \n",
       "96317  Respon nya bagus ramah. Barang cpt sampai. Mak...      1   \n",
       "96318       Sesuai pesanan, mantap. . Recomended seller.      1   \n",
       "\n",
       "                                          text_processed  \n",
       "0                           mantap barang sesuai pesanan  \n",
       "1                                           mantaps       \n",
       "2      terima kasih buka lapaklapak barang sesuai den...  \n",
       "3                                            barang asli  \n",
       "4      packing  rapih  barang sesuai  pesanan  dan ce...  \n",
       "...                                                  ...  \n",
       "96314         sudah sampai  blm dicoba semoga bermanfaat  \n",
       "96315  barangnya sesuai dengan harganya thanks sda di...  \n",
       "96316                     okeexxxxkkkkkkkkkkkkkkkkkkssss  \n",
       "96317  respon nya bagus ramah  barang cpt sampai  mak...  \n",
       "96318       sesuai pesanan  mantap    recomended seller   \n",
       "\n",
       "[96319 rows x 5 columns]"
      ]
     },
     "execution_count": 19,
     "metadata": {},
     "output_type": "execute_result"
    }
   ],
   "source": [
    "# Applying Preprocessing to all Documents\n",
    "\n",
    "data_train_test['text_processed'] = data_train_test['review_sangat_singkat'].apply(lambda x: text_process(x))\n",
    "data_train_test"
   ]
  },
  {
   "cell_type": "markdown",
   "metadata": {},
   "source": [
    "## 4.3. Splitting between `X` (Corpus) and `y` (Target)"
   ]
  },
  {
   "cell_type": "code",
   "execution_count": 20,
   "metadata": {},
   "outputs": [
    {
     "name": "stdout",
     "output_type": "stream",
     "text": [
      "Train Size :  (69590,)\n",
      "Val Size :  (12281,)\n",
      "Test Size :  (14448,)\n"
     ]
    }
   ],
   "source": [
    "# Split between Train-Set, Val-Set, and Test-Set\n",
    "\n",
    "X_train_val, X_test, y_train_val, y_test = train_test_split(data_train_test.text_processed, \n",
    "                                                            data_train_test.label, \n",
    "                                                            test_size=0.15,\n",
    "                                                            random_state=25,\n",
    "                                                            stratify=data_train_test.label)\n",
    "\n",
    "X_train, X_val, y_train, y_val = train_test_split(X_train_val, y_train_val, test_size=0.15, random_state=25)\n",
    "\n",
    "print('Train Size : ', X_train.shape)\n",
    "print('Val Size : ', X_val.shape)\n",
    "print('Test Size : ', X_test.shape)"
   ]
  },
  {
   "cell_type": "markdown",
   "metadata": {},
   "source": [
    "## 4.4. Handling Missing Values"
   ]
  },
  {
   "cell_type": "code",
   "execution_count": 21,
   "metadata": {},
   "outputs": [
    {
     "data": {
      "text/plain": [
       "0"
      ]
     },
     "execution_count": 21,
     "metadata": {},
     "output_type": "execute_result"
    }
   ],
   "source": [
    "# Check Missing Values on X_train\n",
    "\n",
    "X_train.isnull().sum()"
   ]
  },
  {
   "cell_type": "code",
   "execution_count": 22,
   "metadata": {},
   "outputs": [
    {
     "data": {
      "text/plain": [
       "0"
      ]
     },
     "execution_count": 22,
     "metadata": {},
     "output_type": "execute_result"
    }
   ],
   "source": [
    "# Check Missing Values on X_val\n",
    "\n",
    "X_val.isnull().sum()"
   ]
  },
  {
   "cell_type": "code",
   "execution_count": 23,
   "metadata": {},
   "outputs": [
    {
     "data": {
      "text/plain": [
       "0"
      ]
     },
     "execution_count": 23,
     "metadata": {},
     "output_type": "execute_result"
    }
   ],
   "source": [
    "# Check Missing Values on X_test\n",
    "\n",
    "X_test.isnull().sum()"
   ]
  },
  {
   "cell_type": "code",
   "execution_count": 24,
   "metadata": {},
   "outputs": [
    {
     "data": {
      "text/plain": [
       "0"
      ]
     },
     "execution_count": 24,
     "metadata": {},
     "output_type": "execute_result"
    }
   ],
   "source": [
    "# Check Missing Values on y_train\n",
    "\n",
    "y_train.isnull().sum()"
   ]
  },
  {
   "cell_type": "code",
   "execution_count": 25,
   "metadata": {},
   "outputs": [
    {
     "data": {
      "text/plain": [
       "0"
      ]
     },
     "execution_count": 25,
     "metadata": {},
     "output_type": "execute_result"
    }
   ],
   "source": [
    "# Check Missing Values on y_val\n",
    "\n",
    "y_val.isnull().sum()"
   ]
  },
  {
   "cell_type": "code",
   "execution_count": 26,
   "metadata": {},
   "outputs": [
    {
     "data": {
      "text/plain": [
       "0"
      ]
     },
     "execution_count": 26,
     "metadata": {},
     "output_type": "execute_result"
    }
   ],
   "source": [
    "# Check Missing Values on y_test\n",
    "\n",
    "y_test.isnull().sum()"
   ]
  },
  {
   "cell_type": "markdown",
   "metadata": {},
   "source": [
    "## 4.5. Pipeline"
   ]
  },
  {
   "cell_type": "code",
   "execution_count": 27,
   "metadata": {},
   "outputs": [],
   "source": [
    "# Convert String into Numerical Vocabularies\n",
    "\n",
    "count_vect = CountVectorizer()\n",
    "\n",
    "X_train_vect = count_vect.fit_transform(X_train)\n",
    "X_val_vect = count_vect.transform(X_val)\n",
    "X_test_vect = count_vect.transform(X_test)"
   ]
  },
  {
   "cell_type": "code",
   "execution_count": 28,
   "metadata": {},
   "outputs": [
    {
     "name": "stdout",
     "output_type": "stream",
     "text": [
      "Total Vocab :  26260\n",
      "Maximum Sentence Length :  343 word\n"
     ]
    }
   ],
   "source": [
    "# Search for Total Vocab and Maximum Token in One Document\n",
    "\n",
    "total_vocab = len(count_vect.vocabulary_.keys())\n",
    "max_sen_len = max([len(i.split(\" \")) for i in X_train])\n",
    "\n",
    "print(\"Total Vocab : \", total_vocab)\n",
    "print(\"Maximum Sentence Length : \", max_sen_len, \"word\")"
   ]
  },
  {
   "cell_type": "code",
   "execution_count": 29,
   "metadata": {},
   "outputs": [
    {
     "name": "stderr",
     "output_type": "stream",
     "text": [
      "2022-10-25 15:43:46.383134: W tensorflow/core/platform/profile_utils/cpu_utils.cc:128] Failed to get CPU frequency: 0 Hz\n"
     ]
    }
   ],
   "source": [
    "# Text Vectorization (For Layer 1)\n",
    "\n",
    "text_vectorization = TextVectorization(max_tokens=total_vocab,\n",
    "                                       standardize=\"lower_and_strip_punctuation\",\n",
    "                                       split=\"whitespace\",\n",
    "                                       ngrams=None,\n",
    "                                       output_mode=\"int\",\n",
    "                                       output_sequence_length=max_sen_len,\n",
    "                                       input_shape=(1,)\n",
    "                                       )\n",
    "\n",
    "text_vectorization.adapt(X_train)"
   ]
  },
  {
   "cell_type": "code",
   "execution_count": 30,
   "metadata": {},
   "outputs": [],
   "source": [
    "# Embedding\n",
    "\n",
    "embedding = Embedding(input_dim=total_vocab,\n",
    "                      output_dim=172,\n",
    "                      embeddings_initializer=\"uniform\",\n",
    "                      input_length=max_sen_len\n",
    "                      )"
   ]
  },
  {
   "cell_type": "code",
   "execution_count": 31,
   "metadata": {},
   "outputs": [],
   "source": [
    "# Tensor Pipeline Train Set\n",
    "train_dataset = tf.data.Dataset.from_tensor_slices((X_train, y_train))\n",
    "train_dataset = train_dataset.shuffle(buffer_size=150).batch(64)\n",
    "\n",
    "# Tensor Pipeline Test Set\n",
    "test_dataset = tf.data.Dataset.from_tensor_slices((X_test, y_test))\n",
    "test_dataset = test_dataset.batch(64)\n",
    "\n",
    "# Tensor Pipeline Validation Set\n",
    "val_dataset = tf.data.Dataset.from_tensor_slices((X_val, y_val))\n",
    "val_dataset = val_dataset.batch(64)"
   ]
  },
  {
   "cell_type": "markdown",
   "metadata": {},
   "source": [
    "# `Sequential API`"
   ]
  },
  {
   "cell_type": "markdown",
   "metadata": {},
   "source": [
    "# 6. Model Definition"
   ]
  },
  {
   "cell_type": "code",
   "execution_count": 32,
   "metadata": {},
   "outputs": [
    {
     "name": "stdout",
     "output_type": "stream",
     "text": [
      "Model: \"sequential\"\n",
      "_________________________________________________________________\n",
      " Layer (type)                Output Shape              Param #   \n",
      "=================================================================\n",
      " text_vectorization (TextVec  (None, 343)              0         \n",
      " torization)                                                     \n",
      "                                                                 \n",
      " embedding (Embedding)       (None, 343, 172)          4516720   \n",
      "                                                                 \n",
      " global_average_pooling1d (G  (None, 172)              0         \n",
      " lobalAveragePooling1D)                                          \n",
      "                                                                 \n",
      " dense (Dense)               (None, 32)                5536      \n",
      "                                                                 \n",
      " dense_1 (Dense)             (None, 1)                 33        \n",
      "                                                                 \n",
      "=================================================================\n",
      "Total params: 4,522,289\n",
      "Trainable params: 4,522,289\n",
      "Non-trainable params: 0\n",
      "_________________________________________________________________\n"
     ]
    }
   ],
   "source": [
    "# Create Sequential API\n",
    "model = Sequential()\n",
    "model.add(text_vectorization)\n",
    "model.add(embedding)\n",
    "model.add(GlobalAveragePooling1D())\n",
    "\n",
    "# Hidden Layer 1\n",
    "model.add(Dense(32,activation='relu'))\n",
    "\n",
    "# Output Layer\n",
    "model.add(Dense(1,activation='sigmoid'))\n",
    "\n",
    "# Compiling\n",
    "model.compile(loss='binary_crossentropy',optimizer='Adam',metrics='accuracy')\n",
    "\n",
    "model.summary()"
   ]
  },
  {
   "cell_type": "code",
   "execution_count": 33,
   "metadata": {},
   "outputs": [
    {
     "data": {
      "image/png": "[encoded data removed]",
      "text/plain": [
       "<IPython.core.display.Image object>"
      ]
     },
     "execution_count": 33,
     "metadata": {},
     "output_type": "execute_result"
    }
   ],
   "source": [
    "# Plot Layers\n",
    "\n",
    "tf.keras.utils.plot_model(model, show_shapes=True)"
   ]
  },
  {
   "cell_type": "markdown",
   "metadata": {},
   "source": [
    "# 7. Model Training"
   ]
  },
  {
   "cell_type": "code",
   "execution_count": 34,
   "metadata": {},
   "outputs": [
    {
     "name": "stdout",
     "output_type": "stream",
     "text": [
      "Epoch 1/30\n",
      "1088/1088 [==============================] - 11s 10ms/step - loss: 0.3527 - accuracy: 0.8745 - val_loss: 0.2653 - val_accuracy: 0.8884\n",
      "Epoch 2/30\n",
      "1088/1088 [==============================] - 10s 9ms/step - loss: 0.2400 - accuracy: 0.9000 - val_loss: 0.2241 - val_accuracy: 0.9055\n",
      "Epoch 3/30\n",
      "1088/1088 [==============================] - 11s 10ms/step - loss: 0.2146 - accuracy: 0.9123 - val_loss: 0.2197 - val_accuracy: 0.9099\n",
      "Epoch 4/30\n",
      "1088/1088 [==============================] - 10s 10ms/step - loss: 0.2025 - accuracy: 0.9182 - val_loss: 0.2212 - val_accuracy: 0.9111\n",
      "Epoch 5/30\n",
      "1088/1088 [==============================] - 10s 9ms/step - loss: 0.1931 - accuracy: 0.9227 - val_loss: 0.2169 - val_accuracy: 0.9134\n",
      "Epoch 6/30\n",
      "1088/1088 [==============================] - 10s 10ms/step - loss: 0.1863 - accuracy: 0.9259 - val_loss: 0.2156 - val_accuracy: 0.9145\n",
      "Epoch 7/30\n",
      "1088/1088 [==============================] - 10s 10ms/step - loss: 0.1793 - accuracy: 0.9296 - val_loss: 0.2200 - val_accuracy: 0.9127\n",
      "Epoch 8/30\n",
      "1088/1088 [==============================] - 11s 10ms/step - loss: 0.1726 - accuracy: 0.9331 - val_loss: 0.2219 - val_accuracy: 0.9123\n",
      "Epoch 9/30\n",
      "1088/1088 [==============================] - 11s 10ms/step - loss: 0.1671 - accuracy: 0.9356 - val_loss: 0.2307 - val_accuracy: 0.9110\n",
      "Epoch 10/30\n",
      "1088/1088 [==============================] - 10s 10ms/step - loss: 0.1610 - accuracy: 0.9388 - val_loss: 0.2283 - val_accuracy: 0.9123\n",
      "Epoch 11/30\n",
      "1088/1088 [==============================] - 10s 10ms/step - loss: 0.1549 - accuracy: 0.9409 - val_loss: 0.2301 - val_accuracy: 0.9122\n",
      "Epoch 12/30\n",
      "1088/1088 [==============================] - 10s 10ms/step - loss: 0.1487 - accuracy: 0.9440 - val_loss: 0.2398 - val_accuracy: 0.9123\n",
      "Epoch 13/30\n",
      "1088/1088 [==============================] - 10s 10ms/step - loss: 0.1429 - accuracy: 0.9462 - val_loss: 0.2662 - val_accuracy: 0.9081\n",
      "Epoch 14/30\n",
      "1088/1088 [==============================] - 11s 10ms/step - loss: 0.1379 - accuracy: 0.9488 - val_loss: 0.2427 - val_accuracy: 0.9116\n",
      "Epoch 15/30\n",
      "1088/1088 [==============================] - 10s 10ms/step - loss: 0.1324 - accuracy: 0.9518 - val_loss: 0.2466 - val_accuracy: 0.9104\n",
      "Epoch 16/30\n",
      "1088/1088 [==============================] - 10s 10ms/step - loss: 0.1294 - accuracy: 0.9526 - val_loss: 0.2575 - val_accuracy: 0.9099\n",
      "Epoch 17/30\n",
      "1088/1088 [==============================] - 10s 10ms/step - loss: 0.1259 - accuracy: 0.9537 - val_loss: 0.2576 - val_accuracy: 0.9101\n",
      "Epoch 18/30\n",
      "1088/1088 [==============================] - 10s 10ms/step - loss: 0.1205 - accuracy: 0.9566 - val_loss: 0.2728 - val_accuracy: 0.9098\n",
      "Epoch 19/30\n",
      "1088/1088 [==============================] - 10s 9ms/step - loss: 0.1183 - accuracy: 0.9574 - val_loss: 0.2750 - val_accuracy: 0.9090\n",
      "Epoch 20/30\n",
      "1088/1088 [==============================] - 10s 10ms/step - loss: 0.1147 - accuracy: 0.9589 - val_loss: 0.2846 - val_accuracy: 0.9082\n",
      "Epoch 21/30\n",
      "1088/1088 [==============================] - 10s 10ms/step - loss: 0.1132 - accuracy: 0.9595 - val_loss: 0.2928 - val_accuracy: 0.9084\n",
      "Epoch 22/30\n",
      "1088/1088 [==============================] - 10s 10ms/step - loss: 0.1086 - accuracy: 0.9613 - val_loss: 0.2978 - val_accuracy: 0.9064\n",
      "Epoch 23/30\n",
      "1088/1088 [==============================] - 11s 10ms/step - loss: 0.1081 - accuracy: 0.9609 - val_loss: 0.3021 - val_accuracy: 0.9057\n",
      "Epoch 24/30\n",
      "1088/1088 [==============================] - 10s 10ms/step - loss: 0.1039 - accuracy: 0.9629 - val_loss: 0.3058 - val_accuracy: 0.9055\n",
      "Epoch 25/30\n",
      "1088/1088 [==============================] - 10s 10ms/step - loss: 0.1034 - accuracy: 0.9632 - val_loss: 0.3212 - val_accuracy: 0.9056\n",
      "Epoch 26/30\n",
      "1088/1088 [==============================] - 10s 10ms/step - loss: 0.1020 - accuracy: 0.9633 - val_loss: 0.3307 - val_accuracy: 0.9046\n",
      "Epoch 27/30\n",
      "1088/1088 [==============================] - 10s 10ms/step - loss: 0.1008 - accuracy: 0.9641 - val_loss: 0.3315 - val_accuracy: 0.9060\n",
      "Epoch 28/30\n",
      "1088/1088 [==============================] - 10s 10ms/step - loss: 0.0977 - accuracy: 0.9655 - val_loss: 0.3517 - val_accuracy: 0.9055\n",
      "Epoch 29/30\n",
      "1088/1088 [==============================] - 10s 10ms/step - loss: 0.0973 - accuracy: 0.9653 - val_loss: 0.3484 - val_accuracy: 0.9048\n",
      "Epoch 30/30\n",
      "1088/1088 [==============================] - 11s 10ms/step - loss: 0.0964 - accuracy: 0.9655 - val_loss: 0.3515 - val_accuracy: 0.9031\n"
     ]
    }
   ],
   "source": [
    "# Train the Model\n",
    "\n",
    "history_1 = model.fit(train_dataset, epochs=30, validation_data=val_dataset)"
   ]
  },
  {
   "cell_type": "markdown",
   "metadata": {},
   "source": [
    "# 8. Model Evaluation"
   ]
  },
  {
   "cell_type": "code",
   "execution_count": 35,
   "metadata": {},
   "outputs": [
    {
     "data": {
      "text/html": [
       "<div>\n",
       "<style scoped>\n",
       "    .dataframe tbody tr th:only-of-type {\n",
       "        vertical-align: middle;\n",
       "    }\n",
       "\n",
       "    .dataframe tbody tr th {\n",
       "        vertical-align: top;\n",
       "    }\n",
       "\n",
       "    .dataframe thead th {\n",
       "        text-align: right;\n",
       "    }\n",
       "</style>\n",
       "<table border=\"1\" class=\"dataframe\">\n",
       "  <thead>\n",
       "    <tr style=\"text-align: right;\">\n",
       "      <th></th>\n",
       "      <th>loss</th>\n",
       "      <th>accuracy</th>\n",
       "      <th>val_loss</th>\n",
       "      <th>val_accuracy</th>\n",
       "    </tr>\n",
       "  </thead>\n",
       "  <tbody>\n",
       "    <tr>\n",
       "      <th>0</th>\n",
       "      <td>0.352701</td>\n",
       "      <td>0.874537</td>\n",
       "      <td>0.265309</td>\n",
       "      <td>0.888364</td>\n",
       "    </tr>\n",
       "    <tr>\n",
       "      <th>1</th>\n",
       "      <td>0.240048</td>\n",
       "      <td>0.900000</td>\n",
       "      <td>0.224075</td>\n",
       "      <td>0.905464</td>\n",
       "    </tr>\n",
       "    <tr>\n",
       "      <th>2</th>\n",
       "      <td>0.214569</td>\n",
       "      <td>0.912257</td>\n",
       "      <td>0.219664</td>\n",
       "      <td>0.909861</td>\n",
       "    </tr>\n",
       "    <tr>\n",
       "      <th>3</th>\n",
       "      <td>0.202492</td>\n",
       "      <td>0.918192</td>\n",
       "      <td>0.221185</td>\n",
       "      <td>0.911082</td>\n",
       "    </tr>\n",
       "    <tr>\n",
       "      <th>4</th>\n",
       "      <td>0.193083</td>\n",
       "      <td>0.922719</td>\n",
       "      <td>0.216924</td>\n",
       "      <td>0.913444</td>\n",
       "    </tr>\n",
       "    <tr>\n",
       "      <th>5</th>\n",
       "      <td>0.186296</td>\n",
       "      <td>0.925851</td>\n",
       "      <td>0.215600</td>\n",
       "      <td>0.914502</td>\n",
       "    </tr>\n",
       "    <tr>\n",
       "      <th>6</th>\n",
       "      <td>0.179306</td>\n",
       "      <td>0.929559</td>\n",
       "      <td>0.220038</td>\n",
       "      <td>0.912711</td>\n",
       "    </tr>\n",
       "    <tr>\n",
       "      <th>7</th>\n",
       "      <td>0.172576</td>\n",
       "      <td>0.933079</td>\n",
       "      <td>0.221939</td>\n",
       "      <td>0.912304</td>\n",
       "    </tr>\n",
       "    <tr>\n",
       "      <th>8</th>\n",
       "      <td>0.167057</td>\n",
       "      <td>0.935623</td>\n",
       "      <td>0.230744</td>\n",
       "      <td>0.911001</td>\n",
       "    </tr>\n",
       "    <tr>\n",
       "      <th>9</th>\n",
       "      <td>0.161007</td>\n",
       "      <td>0.938813</td>\n",
       "      <td>0.228282</td>\n",
       "      <td>0.912304</td>\n",
       "    </tr>\n",
       "    <tr>\n",
       "      <th>10</th>\n",
       "      <td>0.154874</td>\n",
       "      <td>0.940897</td>\n",
       "      <td>0.230098</td>\n",
       "      <td>0.912222</td>\n",
       "    </tr>\n",
       "    <tr>\n",
       "      <th>11</th>\n",
       "      <td>0.148749</td>\n",
       "      <td>0.943972</td>\n",
       "      <td>0.239831</td>\n",
       "      <td>0.912304</td>\n",
       "    </tr>\n",
       "    <tr>\n",
       "      <th>12</th>\n",
       "      <td>0.142911</td>\n",
       "      <td>0.946228</td>\n",
       "      <td>0.266188</td>\n",
       "      <td>0.908069</td>\n",
       "    </tr>\n",
       "    <tr>\n",
       "      <th>13</th>\n",
       "      <td>0.137942</td>\n",
       "      <td>0.948800</td>\n",
       "      <td>0.242721</td>\n",
       "      <td>0.911571</td>\n",
       "    </tr>\n",
       "    <tr>\n",
       "      <th>14</th>\n",
       "      <td>0.132398</td>\n",
       "      <td>0.951760</td>\n",
       "      <td>0.246570</td>\n",
       "      <td>0.910431</td>\n",
       "    </tr>\n",
       "    <tr>\n",
       "      <th>15</th>\n",
       "      <td>0.129354</td>\n",
       "      <td>0.952637</td>\n",
       "      <td>0.257524</td>\n",
       "      <td>0.909942</td>\n",
       "    </tr>\n",
       "    <tr>\n",
       "      <th>16</th>\n",
       "      <td>0.125922</td>\n",
       "      <td>0.953700</td>\n",
       "      <td>0.257593</td>\n",
       "      <td>0.910105</td>\n",
       "    </tr>\n",
       "    <tr>\n",
       "      <th>17</th>\n",
       "      <td>0.120489</td>\n",
       "      <td>0.956560</td>\n",
       "      <td>0.272789</td>\n",
       "      <td>0.909779</td>\n",
       "    </tr>\n",
       "    <tr>\n",
       "      <th>18</th>\n",
       "      <td>0.118265</td>\n",
       "      <td>0.957365</td>\n",
       "      <td>0.274999</td>\n",
       "      <td>0.909046</td>\n",
       "    </tr>\n",
       "    <tr>\n",
       "      <th>19</th>\n",
       "      <td>0.114672</td>\n",
       "      <td>0.958916</td>\n",
       "      <td>0.284630</td>\n",
       "      <td>0.908232</td>\n",
       "    </tr>\n",
       "    <tr>\n",
       "      <th>20</th>\n",
       "      <td>0.113152</td>\n",
       "      <td>0.959477</td>\n",
       "      <td>0.292830</td>\n",
       "      <td>0.908395</td>\n",
       "    </tr>\n",
       "    <tr>\n",
       "      <th>21</th>\n",
       "      <td>0.108590</td>\n",
       "      <td>0.961316</td>\n",
       "      <td>0.297777</td>\n",
       "      <td>0.906441</td>\n",
       "    </tr>\n",
       "    <tr>\n",
       "      <th>22</th>\n",
       "      <td>0.108126</td>\n",
       "      <td>0.960943</td>\n",
       "      <td>0.302128</td>\n",
       "      <td>0.905708</td>\n",
       "    </tr>\n",
       "    <tr>\n",
       "      <th>23</th>\n",
       "      <td>0.103933</td>\n",
       "      <td>0.962883</td>\n",
       "      <td>0.305798</td>\n",
       "      <td>0.905545</td>\n",
       "    </tr>\n",
       "    <tr>\n",
       "      <th>24</th>\n",
       "      <td>0.103372</td>\n",
       "      <td>0.963199</td>\n",
       "      <td>0.321152</td>\n",
       "      <td>0.905627</td>\n",
       "    </tr>\n",
       "    <tr>\n",
       "      <th>25</th>\n",
       "      <td>0.102036</td>\n",
       "      <td>0.963314</td>\n",
       "      <td>0.330717</td>\n",
       "      <td>0.904649</td>\n",
       "    </tr>\n",
       "    <tr>\n",
       "      <th>26</th>\n",
       "      <td>0.100799</td>\n",
       "      <td>0.964104</td>\n",
       "      <td>0.331501</td>\n",
       "      <td>0.906034</td>\n",
       "    </tr>\n",
       "    <tr>\n",
       "      <th>27</th>\n",
       "      <td>0.097722</td>\n",
       "      <td>0.965455</td>\n",
       "      <td>0.351678</td>\n",
       "      <td>0.905545</td>\n",
       "    </tr>\n",
       "    <tr>\n",
       "      <th>28</th>\n",
       "      <td>0.097339</td>\n",
       "      <td>0.965254</td>\n",
       "      <td>0.348391</td>\n",
       "      <td>0.904812</td>\n",
       "    </tr>\n",
       "    <tr>\n",
       "      <th>29</th>\n",
       "      <td>0.096423</td>\n",
       "      <td>0.965484</td>\n",
       "      <td>0.351522</td>\n",
       "      <td>0.903102</td>\n",
       "    </tr>\n",
       "  </tbody>\n",
       "</table>\n",
       "</div>"
      ],
      "text/plain": [
       "        loss  accuracy  val_loss  val_accuracy\n",
       "0   0.352701  0.874537  0.265309      0.888364\n",
       "1   0.240048  0.900000  0.224075      0.905464\n",
       "2   0.214569  0.912257  0.219664      0.909861\n",
       "3   0.202492  0.918192  0.221185      0.911082\n",
       "4   0.193083  0.922719  0.216924      0.913444\n",
       "5   0.186296  0.925851  0.215600      0.914502\n",
       "6   0.179306  0.929559  0.220038      0.912711\n",
       "7   0.172576  0.933079  0.221939      0.912304\n",
       "8   0.167057  0.935623  0.230744      0.911001\n",
       "9   0.161007  0.938813  0.228282      0.912304\n",
       "10  0.154874  0.940897  0.230098      0.912222\n",
       "11  0.148749  0.943972  0.239831      0.912304\n",
       "12  0.142911  0.946228  0.266188      0.908069\n",
       "13  0.137942  0.948800  0.242721      0.911571\n",
       "14  0.132398  0.951760  0.246570      0.910431\n",
       "15  0.129354  0.952637  0.257524      0.909942\n",
       "16  0.125922  0.953700  0.257593      0.910105\n",
       "17  0.120489  0.956560  0.272789      0.909779\n",
       "18  0.118265  0.957365  0.274999      0.909046\n",
       "19  0.114672  0.958916  0.284630      0.908232\n",
       "20  0.113152  0.959477  0.292830      0.908395\n",
       "21  0.108590  0.961316  0.297777      0.906441\n",
       "22  0.108126  0.960943  0.302128      0.905708\n",
       "23  0.103933  0.962883  0.305798      0.905545\n",
       "24  0.103372  0.963199  0.321152      0.905627\n",
       "25  0.102036  0.963314  0.330717      0.904649\n",
       "26  0.100799  0.964104  0.331501      0.906034\n",
       "27  0.097722  0.965455  0.351678      0.905545\n",
       "28  0.097339  0.965254  0.348391      0.904812\n",
       "29  0.096423  0.965484  0.351522      0.903102"
      ]
     },
     "execution_count": 35,
     "metadata": {},
     "output_type": "execute_result"
    }
   ],
   "source": [
    "# Create Dataframe\n",
    "\n",
    "history_seq_df = pd.DataFrame(history_1.history)\n",
    "history_seq_df"
   ]
  },
  {
   "cell_type": "code",
   "execution_count": 36,
   "metadata": {},
   "outputs": [
    {
     "data": {
      "text/plain": [
       "<AxesSubplot:>"
      ]
     },
     "execution_count": 36,
     "metadata": {},
     "output_type": "execute_result"
    },
    {
     "data": {
      "image/png": "[encoded data removed]",
      "text/plain": [
       "<Figure size 432x288 with 1 Axes>"
      ]
     },
     "metadata": {
      "needs_background": "light"
     },
     "output_type": "display_data"
    }
   ],
   "source": [
    "# Plot between Accuracy and val_accuracy\n",
    "\n",
    "history_seq_df[['accuracy', 'val_accuracy']].plot()"
   ]
  },
  {
   "cell_type": "code",
   "execution_count": 37,
   "metadata": {},
   "outputs": [
    {
     "data": {
      "text/plain": [
       "<AxesSubplot:>"
      ]
     },
     "execution_count": 37,
     "metadata": {},
     "output_type": "execute_result"
    },
    {
     "data": {
      "image/png": "[encoded data removed]",
      "text/plain": [
       "<Figure size 432x288 with 1 Axes>"
      ]
     },
     "metadata": {
      "needs_background": "light"
     },
     "output_type": "display_data"
    }
   ],
   "source": [
    "# Plot between loss and val_loss\n",
    "\n",
    "history_seq_df[['loss', 'val_loss']].plot()"
   ]
  },
  {
   "cell_type": "code",
   "execution_count": 38,
   "metadata": {},
   "outputs": [
    {
     "name": "stdout",
     "output_type": "stream",
     "text": [
      "452/452 [==============================] - 1s 1ms/step\n",
      "              precision    recall  f1-score   support\n",
      "\n",
      "           0       0.68      0.37      0.48      1832\n",
      "           1       0.91      0.98      0.94     12616\n",
      "\n",
      "    accuracy                           0.90     14448\n",
      "   macro avg       0.80      0.67      0.71     14448\n",
      "weighted avg       0.88      0.90      0.88     14448\n",
      "\n"
     ]
    }
   ],
   "source": [
    "# Model Evaluation using Classification Report\n",
    "\n",
    "y_pred_seq = model.predict(X_test)\n",
    "y_pred_seq = np.where(y_pred_seq >= 0.5, 1, 0)\n",
    "\n",
    "print(classification_report(y_test, y_pred_seq))"
   ]
  },
  {
   "cell_type": "code",
   "execution_count": 39,
   "metadata": {},
   "outputs": [
    {
     "data": {
      "image/png": "[encoded data removed]",
      "text/plain": [
       "<Figure size 720x360 with 2 Axes>"
      ]
     },
     "metadata": {
      "needs_background": "light"
     },
     "output_type": "display_data"
    }
   ],
   "source": [
    "# Check Confusion Matrix\n",
    "\n",
    "cm = confusion_matrix(y_test, y_pred_seq)\n",
    "plt.figure(figsize=(10,5))\n",
    "sns.heatmap(cm,annot=True, cmap=\"Blues\", fmt=\"d\", \n",
    "            xticklabels = ['Negative', 'Positive'], \n",
    "            yticklabels = ['Negative', 'Positive'])\n",
    "plt.ylabel('True label')\n",
    "plt.xlabel('Predicted label')\n",
    "plt.title(\"Confusion Matrix - Sequential API Baseline\")\n",
    "plt.show()"
   ]
  },
  {
   "cell_type": "markdown",
   "metadata": {},
   "source": [
    "# `Sequential API - Model Improvement`"
   ]
  },
  {
   "cell_type": "markdown",
   "metadata": {},
   "source": [
    "# 6. Model Definition"
   ]
  },
  {
   "cell_type": "code",
   "execution_count": null,
   "metadata": {},
   "outputs": [],
   "source": [
    "# Create Sequential API\n",
    "model_imp = Sequential()\n",
    "model_imp.add(text_vectorization)\n",
    "model_imp.add(embedding)\n",
    "model_imp.add(GlobalAveragePooling1D())\n",
    "\n",
    "# Hidden Layer 1\n",
    "model_imp.add(Dense(32,activation='relu'))\n",
    "\n",
    "# Output Layer\n",
    "model_imp.add(Dense(1,activation='sigmoid'))\n",
    "\n",
    "# Compiling\n",
    "model_imp.compile(loss='binary_crossentropy',optimizer='Nadam',metrics='accuracy')\n",
    "\n",
    "model_imp.summary()"
   ]
  },
  {
   "cell_type": "code",
   "execution_count": null,
   "metadata": {},
   "outputs": [],
   "source": [
    "# Plot Layers\n",
    "\n",
    "tf.keras.utils.plot_model(model_imp, show_shapes=True)"
   ]
  },
  {
   "cell_type": "markdown",
   "metadata": {},
   "source": [
    "# 7. Model Training"
   ]
  },
  {
   "cell_type": "code",
   "execution_count": null,
   "metadata": {},
   "outputs": [],
   "source": [
    "# Train the Model\n",
    "\n",
    "history_imp = model_imp.fit(train_dataset, epochs=30, validation_data=val_dataset)"
   ]
  },
  {
   "cell_type": "markdown",
   "metadata": {},
   "source": [
    "# 8. Model Evaluation"
   ]
  },
  {
   "cell_type": "code",
   "execution_count": null,
   "metadata": {},
   "outputs": [],
   "source": [
    "# Create Dataframe\n",
    "\n",
    "history_imp_df = pd.DataFrame(history_imp.history)\n",
    "history_imp_df"
   ]
  },
  {
   "cell_type": "markdown",
   "metadata": {},
   "source": [
    "Di `Epoch` ke 11 model sudah mulai tidak menunjukkan kenaikan atau penurunan lagi pada `Accuracy` maupun `Loss` nya. Bisa dibilang model ini cukup bagus untuk digunakan karena accuracy score nya sekitar `98%`. Dimana `2%` miss akan tidak sangat berpengaruh di dalam prediksi.\n",
    "\n",
    "Bisa dibilang menggunakan optimizer `Nadam` model ini lebih cepat belajar data train nya."
   ]
  },
  {
   "cell_type": "code",
   "execution_count": null,
   "metadata": {},
   "outputs": [],
   "source": [
    "# Plot between Accuracy and val_accuracy\n",
    "\n",
    "history_imp_df[['accuracy', 'val_accuracy']].plot()"
   ]
  },
  {
   "cell_type": "code",
   "execution_count": null,
   "metadata": {},
   "outputs": [],
   "source": [
    "# Plot between loss and val_loss\n",
    "\n",
    "history_imp_df[['loss', 'val_loss']].plot()"
   ]
  },
  {
   "cell_type": "markdown",
   "metadata": {},
   "source": [
    "Meskipun model ini fast learner, tapi accuracy nya `over-fit` dimana validation accuracy nya di bawah train accuracy nya."
   ]
  },
  {
   "cell_type": "code",
   "execution_count": null,
   "metadata": {},
   "outputs": [],
   "source": [
    "# Model Evaluation using Classification Report\n",
    "\n",
    "y_pred_seq = model_imp.predict(X_test)\n",
    "y_pred_seq = np.where(y_pred_seq >= 0.5, 1, 0)\n",
    "\n",
    "print(classification_report(y_test, y_pred_seq))"
   ]
  },
  {
   "cell_type": "markdown",
   "metadata": {},
   "source": [
    "Highlight disini adalah Model mendapatkan :\n",
    "\n",
    "- Accuracy Score = `98%`\n",
    "- Serta di prediksi Non-Spam = `98%`\n",
    "- Di prediksi Spam = `93%`\n",
    "\n",
    "Menurun dari model pertama"
   ]
  },
  {
   "cell_type": "code",
   "execution_count": null,
   "metadata": {},
   "outputs": [],
   "source": [
    "# Check Confusion Matrix\n",
    "\n",
    "cm = confusion_matrix(y_test, y_pred_seq)\n",
    "plt.figure(figsize=(10,5))\n",
    "sns.heatmap(cm,annot=True, cmap=\"Blues\", fmt=\"d\", \n",
    "            xticklabels = ['No Spam', 'Spam'], \n",
    "            yticklabels = ['No Spam', 'Spam'])\n",
    "plt.ylabel('True label')\n",
    "plt.xlabel('Predicted label')\n",
    "plt.title(\"Confusion Matrix - Sequential API Model Improvement\")\n",
    "plt.show()"
   ]
  },
  {
   "cell_type": "markdown",
   "metadata": {},
   "source": [
    "Dari total :\n",
    "\n",
    "- Non Spam = 131 total, ada 2 yang salah prediksi menjadi spam\n",
    "- Spam = 30 total, ada 2 yang salah prediksi menjadi non-spam\n",
    "\n",
    "Menurun dari model yang pertama, dimana salah prediksi true label non-spam hanya 1"
   ]
  },
  {
   "cell_type": "markdown",
   "metadata": {},
   "source": [
    "# 9. Model Saving"
   ]
  },
  {
   "cell_type": "code",
   "execution_count": null,
   "metadata": {},
   "outputs": [],
   "source": [
    "# Freeze Best Model\n",
    "\n",
    "model.trainable = False"
   ]
  },
  {
   "cell_type": "code",
   "execution_count": null,
   "metadata": {},
   "outputs": [],
   "source": [
    "# Best Model Summary\n",
    "\n",
    "model.summary()"
   ]
  },
  {
   "cell_type": "code",
   "execution_count": null,
   "metadata": {},
   "outputs": [],
   "source": [
    "model.save(\"spam_check_model\")"
   ]
  },
  {
   "cell_type": "code",
   "execution_count": null,
   "metadata": {},
   "outputs": [],
   "source": [
    "! zip -r spam_check_model.zip spam_check_model"
   ]
  },
  {
   "cell_type": "markdown",
   "metadata": {},
   "source": [
    "# 10. Model Inference"
   ]
  },
  {
   "cell_type": "code",
   "execution_count": null,
   "metadata": {},
   "outputs": [],
   "source": [
    "# Display Inference-Set \n",
    "\n",
    "data_inf"
   ]
  },
  {
   "cell_type": "code",
   "execution_count": null,
   "metadata": {},
   "outputs": [],
   "source": [
    "# A Function to use in the dataframe\n",
    "\n",
    "def text_process(text):\n",
    "\n",
    "  # 1. Change all text to Lowercase\n",
    "  text = text.lower()\n",
    "  \n",
    "  # 2. Removing Mentions\n",
    "  text = re.sub(\"@[A-Za-z0-9_]+\", \" \", text)\n",
    "  \n",
    "  # 3. Removing Hashtags\n",
    "  text = re.sub(\"#[A-Za-z0-9_]+\", \" \", text)\n",
    "  \n",
    "  # 4. Removing \\n\n",
    "  text = re.sub(r\"\\\\n\", \" \",text)\n",
    "  \n",
    "  # 5. Removing Whitespaces\n",
    "  text = text.strip()\n",
    "\n",
    "  # 6. Removing Links\n",
    "  text = re.sub(r\"http\\S+\", \" \", text)\n",
    "  text = re.sub(r\"www.\\S+\", \" \", text)\n",
    "\n",
    "  # 7. Removing non text characters such as Emojis, Mathematical symbols\n",
    "  text = re.sub(\"[^A-Za-z\\s']\", \" \", text)\n",
    "\n",
    "  # 8. Removing RT\n",
    "  text = re.sub(\"rt\", \" \",text)\n",
    "\n",
    "  # 9. Tokenization\n",
    "  tokens = word_tokenize(text)\n",
    "\n",
    "  # 10. Removing Stopwords\n",
    "  stopwords_en = list(set(stopwords.words('english')))\n",
    "  text = ' '.join([word for word in tokens if word not in stopwords_en])\n",
    "  \n",
    "  # 11. Stemming\n",
    "  stemmer = PorterStemmer()\n",
    "  text = stemmer.stem(text)\n",
    "  \n",
    "  return text"
   ]
  },
  {
   "cell_type": "code",
   "execution_count": null,
   "metadata": {},
   "outputs": [],
   "source": [
    "# Applying Preprocessing to all Documents\n",
    "\n",
    "data_inf['Message_processed'] = data_inf['Message_body'].apply(lambda x: text_process(x))\n",
    "data_inf"
   ]
  },
  {
   "cell_type": "code",
   "execution_count": null,
   "metadata": {},
   "outputs": [],
   "source": [
    "data_inf_x = data_inf['Message_processed']"
   ]
  },
  {
   "cell_type": "code",
   "execution_count": null,
   "metadata": {},
   "outputs": [],
   "source": [
    "# Predict using Best Model & Change if >= 0.5 to 1\n",
    "\n",
    "y_pred_inf = model.predict(data_inf_x)\n",
    "y_pred_inf = np.where(y_pred_inf >= 0.5, 1, 0)\n",
    "y_pred_inf"
   ]
  },
  {
   "cell_type": "code",
   "execution_count": null,
   "metadata": {},
   "outputs": [],
   "source": [
    "# Create DataFrame of Label Prediction using Best Model\n",
    "\n",
    "y_pred_inf_data = pd.DataFrame(y_pred_inf, columns=['Label_Prediction'])\n",
    "y_pred_inf_data"
   ]
  },
  {
   "cell_type": "code",
   "execution_count": null,
   "metadata": {},
   "outputs": [],
   "source": [
    "# Concate between Inference-Set and Label's Prediction Best Model\n",
    "\n",
    "data_inf = pd.concat([data_inf, y_pred_inf_data], axis=1)\n",
    "data_inf"
   ]
  },
  {
   "cell_type": "markdown",
   "metadata": {},
   "source": [
    "Tidak ada salah prediksi dari keseluruhan sample."
   ]
  },
  {
   "cell_type": "markdown",
   "metadata": {},
   "source": [
    "# 11. Pengambilan Kesimpulan"
   ]
  },
  {
   "cell_type": "markdown",
   "metadata": {},
   "source": [
    "Di jaman era teknologi sekarang, kebanyakan orang sudah mengirimkan promosi ataupun ads ataupun text melalui email. Namun ada beberapa yang spam email, dan sangat mengganggu inbox email. Model ini dibuat untuk mengklasifikasikan apakah email itu spam atau tidak, jadi kita tidak perlu menghabiskan waktu di email tersebut. Dan tidak terjerumus ke pishing email."
   ]
  },
  {
   "cell_type": "markdown",
   "metadata": {},
   "source": [
    "Dengan menggunakan model yang telah saya buat. Best modelnya yaitu Baseline Model, mendapatkan tingkat sebagai berikut :\n",
    "\n",
    "- Accuracy Score : `98%`\n",
    "- True Label 0 : `99%`\n",
    "- True Label 1 : `95%`\n",
    "\n",
    "dan di sample testing tidak ada salah prediksi dari keseluruhan meskipun kata-kata sudah dilakukan preprocessing, model dapat secara benar memprediksi label nya masing-masing."
   ]
  }
 ],
 "metadata": {
  "kernelspec": {
   "display_name": "Python 3.10.6 64-bit",
   "language": "python",
   "name": "python3"
  },
  "language_info": {
   "codemirror_mode": {
    "name": "ipython",
    "version": 3
   },
   "file_extension": ".py",
   "mimetype": "text/x-python",
   "name": "python",
   "nbconvert_exporter": "python",
   "pygments_lexer": "ipython3",
   "version": "3.10.6"
  },
  "orig_nbformat": 4,
  "vscode": {
   "interpreter": {
    "hash": "aee8b7b246df8f9039afb4144a1f6fd8d2ca17a180786b69acc140d282b71a49"
   }
  }
 },
 "nbformat": 4,
 "nbformat_minor": 2
}
